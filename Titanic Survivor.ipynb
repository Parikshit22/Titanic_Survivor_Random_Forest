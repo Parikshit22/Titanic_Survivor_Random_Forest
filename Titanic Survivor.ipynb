{
 "cells": [
  {
   "cell_type": "code",
   "execution_count": 98,
   "metadata": {},
   "outputs": [
    {
     "name": "stdout",
     "output_type": "stream",
     "text": [
      "(1009, 14)\n",
      "(300, 13)\n",
      "Index(['pclass', 'name', 'sex', 'age', 'sibsp', 'parch', 'ticket', 'fare',\n",
      "       'cabin', 'embarked', 'boat', 'body', 'home.dest'],\n",
      "      dtype='object')\n"
     ]
    },
    {
     "data": {
      "text/plain": [
       "Index(['pclass', 'survived', 'name', 'sex', 'age', 'sibsp', 'parch', 'ticket',\n",
       "       'fare', 'cabin', 'embarked', 'boat', 'body', 'home.dest'],\n",
       "      dtype='object')"
      ]
     },
     "execution_count": 98,
     "metadata": {},
     "output_type": "execute_result"
    }
   ],
   "source": [
    "import numpy as np\n",
    "import pandas as pd\n",
    "import matplotlib.pyplot as plt\n",
    "from sklearn.preprocessing import LabelEncoder\n",
    "lb = LabelEncoder()\n",
    "\n",
    "dataset = pd.read_csv(\"Train.csv\")\n",
    "test_data = pd.read_csv(\"Test.csv\")\n",
    "\n",
    "print(dataset.shape)\n",
    "print(test_data.shape)\n",
    "print(test_data.columns)\n",
    "dataset.columns"
   ]
  },
  {
   "cell_type": "code",
   "execution_count": 99,
   "metadata": {},
   "outputs": [],
   "source": [
    "ans = dataset.parch+dataset.sibsp+1\n",
    "dataset['family'] = ans\n",
    "ans = test_data.parch+test_data.sibsp+1\n",
    "test_data['family'] = ans\n"
   ]
  },
  {
   "cell_type": "code",
   "execution_count": 101,
   "metadata": {},
   "outputs": [
    {
     "name": "stdout",
     "output_type": "stream",
     "text": [
      "<class 'pandas.core.frame.DataFrame'>\n",
      "Int64Index: 1009 entries, 0 to 1008\n",
      "Data columns (total 6 columns):\n",
      "pclass      1009 non-null float64\n",
      "sex         1009 non-null int64\n",
      "age         1009 non-null float64\n",
      "fare        1009 non-null int64\n",
      "family      1009 non-null float64\n",
      "survived    1009 non-null float64\n",
      "dtypes: float64(4), int64(2)\n",
      "memory usage: 55.2 KB\n"
     ]
    },
    {
     "data": {
      "text/html": [
       "<div>\n",
       "<style scoped>\n",
       "    .dataframe tbody tr th:only-of-type {\n",
       "        vertical-align: middle;\n",
       "    }\n",
       "\n",
       "    .dataframe tbody tr th {\n",
       "        vertical-align: top;\n",
       "    }\n",
       "\n",
       "    .dataframe thead th {\n",
       "        text-align: right;\n",
       "    }\n",
       "</style>\n",
       "<table border=\"1\" class=\"dataframe\">\n",
       "  <thead>\n",
       "    <tr style=\"text-align: right;\">\n",
       "      <th></th>\n",
       "      <th>pclass</th>\n",
       "      <th>sex</th>\n",
       "      <th>age</th>\n",
       "      <th>fare</th>\n",
       "      <th>family</th>\n",
       "      <th>survived</th>\n",
       "    </tr>\n",
       "  </thead>\n",
       "  <tbody>\n",
       "    <tr>\n",
       "      <th>0</th>\n",
       "      <td>3.0</td>\n",
       "      <td>0</td>\n",
       "      <td>29.838978</td>\n",
       "      <td>32</td>\n",
       "      <td>1.0</td>\n",
       "      <td>0.0</td>\n",
       "    </tr>\n",
       "    <tr>\n",
       "      <th>1</th>\n",
       "      <td>2.0</td>\n",
       "      <td>1</td>\n",
       "      <td>39.000000</td>\n",
       "      <td>141</td>\n",
       "      <td>1.0</td>\n",
       "      <td>0.0</td>\n",
       "    </tr>\n",
       "    <tr>\n",
       "      <th>2</th>\n",
       "      <td>2.0</td>\n",
       "      <td>0</td>\n",
       "      <td>40.000000</td>\n",
       "      <td>88</td>\n",
       "      <td>1.0</td>\n",
       "      <td>1.0</td>\n",
       "    </tr>\n",
       "    <tr>\n",
       "      <th>3</th>\n",
       "      <td>3.0</td>\n",
       "      <td>0</td>\n",
       "      <td>31.000000</td>\n",
       "      <td>123</td>\n",
       "      <td>3.0</td>\n",
       "      <td>1.0</td>\n",
       "    </tr>\n",
       "    <tr>\n",
       "      <th>4</th>\n",
       "      <td>3.0</td>\n",
       "      <td>0</td>\n",
       "      <td>29.838978</td>\n",
       "      <td>132</td>\n",
       "      <td>3.0</td>\n",
       "      <td>1.0</td>\n",
       "    </tr>\n",
       "  </tbody>\n",
       "</table>\n",
       "</div>"
      ],
      "text/plain": [
       "   pclass  sex        age  fare  family  survived\n",
       "0     3.0    0  29.838978    32     1.0       0.0\n",
       "1     2.0    1  39.000000   141     1.0       0.0\n",
       "2     2.0    0  40.000000    88     1.0       1.0\n",
       "3     3.0    0  31.000000   123     3.0       1.0\n",
       "4     3.0    0  29.838978   132     3.0       1.0"
      ]
     },
     "execution_count": 101,
     "metadata": {},
     "output_type": "execute_result"
    }
   ],
   "source": [
    "def change(dataset):\n",
    "    dataset.age = dataset[\"age\"].fillna(dataset[\"age\"].mean())\n",
    "    dataset.fare = dataset[\"fare\"].fillna(dataset[\"fare\"].mean())\n",
    "    dataset.fare = dataset[\"fare\"].fillna(dataset[\"fare\"].mean())\n",
    "    \n",
    "    dataset[\"sex\"] = lb.fit_transform(dataset[\"sex\"])\n",
    "    dataset[\"fare\"] = lb.fit_transform(dataset[\"fare\"])\n",
    "\n",
    "    col = [\"pclass\",\"sex\",\"age\",\"fare\",\"family\",\"survived\"]\n",
    "    dataset = dataset[col]\n",
    "    dataset = dataset.dropna(axis = 0, how ='any') \n",
    "    return dataset\n",
    "def change2(dataset):\n",
    "    dataset.age = dataset[\"age\"].fillna(dataset[\"age\"].mean())\n",
    "    dataset.fare = dataset[\"fare\"].fillna(dataset[\"fare\"].mean())\n",
    "    dataset.fare = dataset[\"fare\"].fillna(dataset[\"fare\"].mean())\n",
    "    \n",
    "    dataset[\"sex\"] = lb.fit_transform(dataset[\"sex\"])\n",
    "    dataset[\"fare\"] = lb.fit_transform(dataset[\"fare\"])\n",
    "\n",
    "    col = [\"pclass\",\"sex\",\"age\",\"fare\",\"family\"]\n",
    "    dataset = dataset[col]\n",
    "    dataset = dataset.dropna(axis = 0, how ='any') \n",
    "    return dataset\n",
    "dataset = change(dataset)\n",
    "test_data = change2(test_data)\n",
    "dataset.info()\n",
    "dataset.head()\n"
   ]
  },
  {
   "cell_type": "code",
   "execution_count": 102,
   "metadata": {},
   "outputs": [
    {
     "name": "stdout",
     "output_type": "stream",
     "text": [
      "survived    1.000000\n",
      "fare        0.301213\n",
      "family      0.015249\n",
      "age        -0.034423\n",
      "pclass     -0.317571\n",
      "sex        -0.512922\n",
      "Name: survived, dtype: float64\n"
     ]
    }
   ],
   "source": [
    "corr_matrix = dataset.corr()\n",
    "print(corr_matrix[\"survived\"].sort_values(ascending = False))"
   ]
  },
  {
   "cell_type": "code",
   "execution_count": 103,
   "metadata": {},
   "outputs": [
    {
     "name": "stdout",
     "output_type": "stream",
     "text": [
      "<class 'pandas.core.frame.DataFrame'>\n",
      "Int64Index: 1009 entries, 0 to 1008\n",
      "Data columns (total 6 columns):\n",
      "pclass      1009 non-null float64\n",
      "sex         1009 non-null int64\n",
      "age         1009 non-null float64\n",
      "fare        1009 non-null int64\n",
      "family      1009 non-null float64\n",
      "survived    1009 non-null float64\n",
      "dtypes: float64(4), int64(2)\n",
      "memory usage: 55.2 KB\n"
     ]
    }
   ],
   "source": [
    "input_col = [\"pclass\",\"sex\",\"age\",\"fare\",\"family\"]\n",
    "output_col = [\"survived\"]\n",
    "dataset.info()"
   ]
  },
  {
   "cell_type": "code",
   "execution_count": 116,
   "metadata": {},
   "outputs": [
    {
     "data": {
      "text/plain": [
       "0.8364717542120912"
      ]
     },
     "execution_count": 116,
     "metadata": {},
     "output_type": "execute_result"
    }
   ],
   "source": [
    "from sklearn.ensemble import RandomForestClassifier\n",
    "re = RandomForestClassifier(n_estimators=57,criterion='entropy', max_depth = 5)\n",
    "y_data=np.array(dataset[output_col]).reshape((-1,))\n",
    "re.fit(dataset[input_col],y_data)\n",
    "re.score(dataset[input_col],y_data)\n"
   ]
  },
  {
   "cell_type": "code",
   "execution_count": 112,
   "metadata": {},
   "outputs": [],
   "source": [
    "acc_list = []\n",
    "for i in range(1,90):\n",
    "    acc = cross_val_score(RandomForestClassifier(n_estimators=i,max_depth=5),dataset[input_col],y_data,cv=5).mean()\n",
    "    acc_list.append(acc)"
   ]
  },
  {
   "cell_type": "code",
   "execution_count": 130,
   "metadata": {},
   "outputs": [],
   "source": [
    "acc_list1 = []\n",
    "for i in range(3,20):\n",
    "    acc = cross_val_score(RandomForestClassifier(n_estimators=57,max_depth=i),dataset[input_col],y_data,cv=5).mean()\n",
    "    acc_list1.append(acc)"
   ]
  },
  {
   "cell_type": "code",
   "execution_count": 131,
   "metadata": {},
   "outputs": [
    {
     "data": {
      "image/png": "[encoded data removed]",
      "text/plain": [
       "<Figure size 576x396 with 1 Axes>"
      ]
     },
     "metadata": {},
     "output_type": "display_data"
    }
   ],
   "source": [
    "import matplotlib.pyplot as plt\n",
    "plt.style.use(\"seaborn\")\n",
    "plt.plot(acc_list1)\n",
    "plt.show()"
   ]
  },
  {
   "cell_type": "code",
   "execution_count": 133,
   "metadata": {},
   "outputs": [
    {
     "name": "stdout",
     "output_type": "stream",
     "text": [
      "3\n",
      "0.8067446021125898\n"
     ]
    }
   ],
   "source": [
    "index = np.argmax(acc_list1)\n",
    "print(index)\n",
    "print(acc_list1[3])"
   ]
  },
  {
   "cell_type": "code",
   "execution_count": 123,
   "metadata": {},
   "outputs": [
    {
     "name": "stdout",
     "output_type": "stream",
     "text": [
      "[0. 0. 0. 0. 0. 1. 0. 0. 0. 0. 0. 0. 0. 0. 1. 0. 0. 1. 1. 0. 1. 0. 0. 0.\n",
      " 0. 1. 0. 1. 1. 0. 0. 1. 0. 1. 0. 1. 0. 0. 0. 1. 1. 1. 0. 1. 0. 0. 1. 0.\n",
      " 0. 0. 0. 1. 0. 1. 0. 0. 0. 0. 1. 0. 1. 1. 1. 0. 0. 1. 0. 0. 0. 1. 1. 0.\n",
      " 0. 0. 1. 0. 1. 1. 0. 0. 1. 0. 0. 0. 1. 0. 0. 0. 0. 0. 1. 0. 0. 0. 1. 1.\n",
      " 0. 1. 1. 0. 1. 0. 0. 0. 0. 0. 0. 0. 1. 0. 1. 0. 0. 0. 1. 0. 0. 0. 0. 1.\n",
      " 0. 1. 0. 0. 1. 0. 0. 0. 0. 1. 0. 1. 1. 0. 0. 0. 1. 1. 0. 0. 1. 0. 0. 0.\n",
      " 1. 0. 0. 0. 0. 0. 0. 0. 1. 0. 0. 0. 0. 0. 0. 0. 0. 0. 1. 1. 0. 0. 0. 1.\n",
      " 0. 0. 1. 0. 0. 0. 1. 0. 1. 0. 0. 0. 0. 0. 1. 0. 1. 0. 0. 0. 0. 0. 1. 0.\n",
      " 0. 0. 0. 0. 0. 0. 1. 1. 1. 0. 1. 1. 1. 1. 0. 0. 0. 0. 0. 0. 1. 1. 1. 0.\n",
      " 1. 0. 1. 1. 1. 0. 0. 1. 1. 0. 0. 0. 0. 0. 0. 0. 0. 0. 0. 0. 0. 0. 0. 0.\n",
      " 0. 1. 0. 0. 1. 1. 1. 1. 1. 0. 1. 0. 0. 0. 1. 0. 0. 0. 0. 0. 0. 0. 0. 0.\n",
      " 1. 0. 0. 1. 0. 0. 1. 0. 0. 0. 0. 0. 0. 0. 1. 0. 1. 0. 1. 0. 1. 0. 0. 1.\n",
      " 1. 0. 1. 0. 1. 0. 0. 1. 1. 0. 0. 1.]\n"
     ]
    }
   ],
   "source": [
    "pred = re.predict(test_data)\n",
    "print(pred)"
   ]
  },
  {
   "cell_type": "code",
   "execution_count": 129,
   "metadata": {},
   "outputs": [],
   "source": [
    "dict = {\"survived\":pred}\n",
    "ans = pd.DataFrame(dict,dtype = 'float64')\n",
    "ans.to_csv(\"ans1.csv\")"
   ]
  },
  {
   "cell_type": "code",
   "execution_count": 122,
   "metadata": {},
   "outputs": [],
   "source": []
  },
  {
   "cell_type": "code",
   "execution_count": null,
   "metadata": {},
   "outputs": [],
   "source": []
  }
 ],
 "metadata": {
  "kernelspec": {
   "display_name": "Python 3",
   "language": "python",
   "name": "python3"
  },
  "language_info": {
   "codemirror_mode": {
    "name": "ipython",
    "version": 3
   },
   "file_extension": ".py",
   "mimetype": "text/x-python",
   "name": "python",
   "nbconvert_exporter": "python",
   "pygments_lexer": "ipython3",
   "version": "3.6.8"
  }
 },
 "nbformat": 4,
 "nbformat_minor": 2
}
